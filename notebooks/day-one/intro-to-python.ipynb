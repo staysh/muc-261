{
 "cells": [
  {
   "cell_type": "markdown",
   "metadata": {},
   "source": [
    "# A Very Brief Intro To Python, Jupyter and Pandas\n",
    "\n",
    "In this note book we will:\n",
    "\n",
    "- Learn to navigate a Jupyter Notebook from hotkeys\n",
    "- Get a very quick intro to Python in context of the course\n",
    "- Import a small data set\n",
    "- Plot some data\n",
    "\n",
    "...*Hopefully*"
   ]
  },
  {
   "cell_type": "code",
   "execution_count": 0,
   "metadata": {},
   "outputs": [],
   "source": [
    "# the hash is used to denote a comment in python\n",
    "\n",
    "# any characters to the right of a hash do not get interpreted\n",
    "\n",
    "# the up and down arrows move between cells\n",
    "\n",
    "# there are two modes in a notebook control (blue) to navigate and add/remove cells\n",
    "\n",
    "# and edit (green) lets you edit the content of the cell\n",
    "\n",
    "# the escape key puts you in control more, and enter into edit mode\n",
    "\n",
    "# First make sure this cell is highlighted, enter edit mode if you are\n",
    "\n",
    "# print(\"The Cell Has Run!\")\n",
    "\n",
    "# \"uncomment\" the line above, and type \"ctrl+enter\" to run the cell"
   ]
  },
  {
   "cell_type": "code",
   "execution_count": 0,
   "metadata": {},
   "outputs": [],
   "source": [
    "# While in control mode 'b' adds a cell below the highlighted cell\n",
    "\n",
    "# and 'a' adds a cell above the highlighted cell\n",
    "\n",
    "# verify you are in control mode pressing esc if necessary\n",
    "\n",
    "# add a cell above and below the current cell\n",
    "\n",
    "# use the arrow keys to highlight an empty cell and type 'dd'\n",
    "\n",
    "# delete both the cells you created\n",
    "\n",
    "# Try this: add 1-5 hashes to every hash ie \"###\" and type 'm'\n",
    "\n",
    "# which changes the cell to render \"markdown\" like the title"
   ]
  },
  {
   "cell_type": "code",
   "execution_count": 1,
   "metadata": {},
   "outputs": [
    {
     "name": "stdout",
     "output_type": "stream",
     "text": [
      "<class 'int'>\n",
      "<class 'str'>\n",
      "<class 'float'>\n"
     ]
    }
   ],
   "source": [
    "# Since python is dynamically typed\n",
    "# we can initialize variables like this\n",
    "\n",
    "number = 234782349     # creates an integer\n",
    "name = 'Jane Dope'     # creates a string\n",
    "percentage = 99.99999  # creates a float\n",
    "\n",
    "# we can use a handy built in function to verify\n",
    "\n",
    "print(type(number))\n",
    "print(type(name))\n",
    "print(type(percentage))\n",
    "\n",
    "# edit this cell and create new variables and check their type"
   ]
  },
  {
   "cell_type": "code",
   "execution_count": 5,
   "metadata": {},
   "outputs": [
    {
     "name": "stdout",
     "output_type": "stream",
     "text": [
      "['this', 'that', 'olives']\n"
     ]
    }
   ],
   "source": [
    "# There are other classes of variables too\n",
    "\n",
    "favs = []     # creates an empty \"list\"\n",
    "\n",
    "new_favs = ['this', 'that', 'olives']     # creates a list with these elements\n",
    "\n",
    "for item in new_favs:     # for loops are very succinct in python\n",
    "    favs.append(item)\n",
    "\n",
    "print(favs)\n",
    "\n",
    "# below this line create a short list of strings\n",
    "# then write a loop to append them to favs and print the new list"
   ]
  },
  {
   "cell_type": "code",
   "execution_count": 12,
   "metadata": {},
   "outputs": [
    {
     "name": "stdout",
     "output_type": "stream",
     "text": [
      "{'this': 6, 'that': 7, 'olives': 5}\n",
      "5\n",
      "<class 'int'>\n"
     ]
    }
   ],
   "source": [
    "# once you initialize a variable and run a cell\n",
    "# the values are accessible in the cells below\n",
    "\n",
    "# one more data type on our tour\n",
    "# the dictionary... a key/value data type\n",
    "\n",
    "# lets loop through our list and make a fav dictionary\n",
    "# well get the keys from our list of strings (keys are strings)\n",
    "# and well generate some random 'scores' with a helper function\n",
    "\n",
    "import random # this is a 'module' they contain functions and objects\n",
    "\n",
    "fav_ranks = {} # starts an empty dictionary\n",
    "\n",
    "for fav in favs:\n",
    "    fav_ranks[fav] = random.randint(1,10) # see the difference?\n",
    "\n",
    "print(fav_ranks)\n",
    "print(fav_ranks['olives'])\n",
    "print(type(fav_ranks['olives']))"
   ]
  },
  {
   "cell_type": "code",
   "execution_count": 1,
   "metadata": {},
   "outputs": [
    {
     "name": "stdout",
     "output_type": "stream",
     "text": [
      "<class 'pandas.core.frame.DataFrame'>\n",
      "RangeIndex: 1161 entries, 0 to 1160\n",
      "Data columns (total 17 columns):\n",
      " #   Column  Non-Null Count  Dtype \n",
      "---  ------  --------------  ----- \n",
      " 0   0       1161 non-null   int64 \n",
      " 1   1       1161 non-null   object\n",
      " 2   2       1161 non-null   object\n",
      " 3   3       1161 non-null   object\n",
      " 4   4       1161 non-null   object\n",
      " 5   5       1161 non-null   object\n",
      " 6   6       1161 non-null   object\n",
      " 7   7       1161 non-null   int64 \n",
      " 8   8       1161 non-null   object\n",
      " 9   9       1161 non-null   object\n",
      " 10  10      1161 non-null   object\n",
      " 11  11      1161 non-null   int64 \n",
      " 12  12      1161 non-null   int64 \n",
      " 13  13      1161 non-null   int64 \n",
      " 14  14      1161 non-null   int64 \n",
      " 15  15      1161 non-null   int64 \n",
      " 16  16      1161 non-null   int64 \n",
      "dtypes: int64(8), object(9)\n",
      "memory usage: 154.3+ KB\n"
     ]
    }
   ],
   "source": [
    "# Importing data in a pandas \"dataframe\"\n",
    "\n",
    "import pandas as pd # we can make an alias for a library that is shorter\n",
    "\n",
    "data = pd.read_csv('aaup.dat.txt', sep=',', header=None)\n",
    "\n",
    "\n",
    "data.info()"
   ]
  }
 ],
 "metadata": {
  "kernelspec": {
   "display_name": "Python 3 (ipykernel)",
   "language": "python",
   "name": "python3"
  },
  "language_info": {
   "codemirror_mode": {
    "name": "ipython",
    "version": 3
   },
   "file_extension": ".py",
   "mimetype": "text/x-python",
   "name": "python",
   "nbconvert_exporter": "python",
   "pygments_lexer": "ipython3",
   "version": "3.8.5"
  }
 },
 "nbformat": 4,
 "nbformat_minor": 4
}
