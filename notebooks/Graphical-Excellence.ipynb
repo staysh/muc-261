{
 "cells": [
  {
   "cell_type": "markdown",
   "id": "imperial-revelation",
   "metadata": {},
   "source": [
    "# Graphical Excellence\n",
    "In this notebook we will look at some python code that illustrates some key concepts from chapter 1 of VDQI by Tufte\n"
   ]
  },
  {
   "cell_type": "code",
   "execution_count": 3,
   "id": "identical-bench",
   "metadata": {},
   "outputs": [],
   "source": [
    "#We will be making use of the following libraries..\n",
    "import pandas as pd # similar to \"spreadsheets\" \n",
    "import numpy as np # operations on lists of numbers\n",
    "import matplotlib.pyplot as plt # render charts in the notebook"
   ]
  },
  {
   "cell_type": "markdown",
   "id": "adapted-medication",
   "metadata": {},
   "source": [
    "#### First we will need to import some data\n",
    "Below we are loading files into pandas 'data frame' objects which are like virtual spread sheets"
   ]
  },
  {
   "cell_type": "code",
   "execution_count": null,
   "id": "later-teaching",
   "metadata": {},
   "outputs": [],
   "source": [
    "# There are several small datasets in the /data folder\n",
    "# they need to be named so we can refer to them later on\n",
    "# we will call them dataset_a, dataset_b, etc...\n",
    "\n",
    "dataset_a = pd.read_csv('data/graphical-excellence/data1.txt', sep=\"\\t\", header=None)\n",
    "dataset_b = pd.read_csv('data/graphical-excellence/data2.txt', sep=\"\\t\", header=None)\n",
    "dataset_c = pd.read_csv('data/graphical-excellence/data3.txt', sep=\"\\t\", header=None)\n",
    "dataset_d = pd.read_csv('data/graphical-excellence/data4.txt', sep=\"\\t\", header=None)\n",
    "\n",
    "# here we declare a variable like dataset_a and\n",
    "# use a pandas library function that reads a file in\n",
    "# then creates a virtual spread sheet we can inspect and even manipulate\n",
    "# the sep=\"\\t\" tells pandas that the columns are seperated by tabs\n",
    "# header=None lets pandas know that our columns aren't labelled"
   ]
  },
  {
   "cell_type": "markdown",
   "id": "talented-edition",
   "metadata": {},
   "source": [
    "#### Now our data is loaded into memory (RAM) !\n",
    "Let's print some of it out to make sure..."
   ]
  },
  {
   "cell_type": "code",
   "execution_count": null,
   "id": "limited-western",
   "metadata": {},
   "outputs": [],
   "source": [
    "# To see what's \"inside\" a variable you can just type it's name\n",
    "dataset_a"
   ]
  },
  {
   "cell_type": "code",
   "execution_count": null,
   "id": "rubber-morgan",
   "metadata": {},
   "outputs": [],
   "source": [
    "# There are however more informative functions we can use\n",
    "\n",
    "# the \"shape\" of the data is it's rows and columns\n",
    "dataset_a.shape"
   ]
  },
  {
   "cell_type": "code",
   "execution_count": null,
   "id": "married-investigator",
   "metadata": {},
   "outputs": [],
   "source": [
    "# we can also look at some more technical information\n",
    "\n",
    "dataset_a.info"
   ]
  },
  {
   "cell_type": "markdown",
   "id": "distinct-developer",
   "metadata": {},
   "source": [
    "## Why Graphics?\n",
    "- What *exactly* happens when making graphics with numbers"
   ]
  },
  {
   "cell_type": "code",
   "execution_count": null,
   "id": "immune-marathon",
   "metadata": {},
   "outputs": [],
   "source": [
    "# Display Some of the data sets in raw form\n",
    "\n",
    "# Plot data... "
   ]
  },
  {
   "cell_type": "markdown",
   "id": "about-discharge",
   "metadata": {},
   "source": [
    "## Time Series"
   ]
  },
  {
   "cell_type": "code",
   "execution_count": null,
   "id": "colored-gather",
   "metadata": {},
   "outputs": [],
   "source": [
    "# Print the length of a long time series\n",
    "\n",
    "# Plot the time series"
   ]
  },
  {
   "cell_type": "markdown",
   "id": "mobile-springer",
   "metadata": {},
   "source": [
    "## Correlation is not Causation"
   ]
  },
  {
   "cell_type": "code",
   "execution_count": null,
   "id": "incredible-inside",
   "metadata": {},
   "outputs": [],
   "source": [
    "# Plot data set by month with a dip in one location\n",
    "# With just this information it looks like something happens in month x\n",
    "\n",
    "# Plot the other relevant data..\n",
    "# Is it the month? or something else maybe..."
   ]
  }
 ],
 "metadata": {
  "kernelspec": {
   "display_name": "Python 3",
   "language": "python",
   "name": "python3"
  },
  "language_info": {
   "codemirror_mode": {
    "name": "ipython",
    "version": 3
   },
   "file_extension": ".py",
   "mimetype": "text/x-python",
   "name": "python",
   "nbconvert_exporter": "python",
   "pygments_lexer": "ipython3",
   "version": "3.8.5"
  }
 },
 "nbformat": 4,
 "nbformat_minor": 5
}
